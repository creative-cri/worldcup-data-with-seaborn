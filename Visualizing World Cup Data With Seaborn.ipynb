{
 "cells": [
  {
   "cell_type": "code",
   "execution_count": 16,
   "id": "a67c257e",
   "metadata": {},
   "outputs": [],
   "source": [
    "import pandas as pd\n",
    "import numpy as np\n",
    "import matplotlib.pyplot as plt\n",
    "import seaborn as sns"
   ]
  },
  {
   "cell_type": "code",
   "execution_count": 18,
   "id": "1f79ed22",
   "metadata": {},
   "outputs": [
    {
     "name": "stdout",
     "output_type": "stream",
     "text": [
      "     Year              Datetime    Stage         Stadium         City  \\\n",
      "0  1930.0  13 Jul 1930 - 15:00   Group 1         Pocitos  Montevideo    \n",
      "1  1930.0  13 Jul 1930 - 15:00   Group 4  Parque Central  Montevideo    \n",
      "2  1930.0  14 Jul 1930 - 12:45   Group 2  Parque Central  Montevideo    \n",
      "3  1930.0  14 Jul 1930 - 14:50   Group 3         Pocitos  Montevideo    \n",
      "4  1930.0  15 Jul 1930 - 16:00   Group 1  Parque Central  Montevideo    \n",
      "\n",
      "  Home Team Name  Home Team Goals  Away Team Goals Away Team Name  \\\n",
      "0         France              4.0              1.0         Mexico   \n",
      "1            USA              3.0              0.0        Belgium   \n",
      "2     Yugoslavia              2.0              1.0         Brazil   \n",
      "3        Romania              3.0              1.0           Peru   \n",
      "4      Argentina              1.0              0.0         France   \n",
      "\n",
      "  Win conditions  Attendance  Half-time Home Goals  Half-time Away Goals  \\\n",
      "0                     4444.0                   3.0                   0.0   \n",
      "1                    18346.0                   2.0                   0.0   \n",
      "2                    24059.0                   2.0                   0.0   \n",
      "3                     2549.0                   1.0                   0.0   \n",
      "4                    23409.0                   0.0                   0.0   \n",
      "\n",
      "                  Referee               Assistant 1  \\\n",
      "0  LOMBARDI Domingo (URU)     CRISTOPHE Henry (BEL)   \n",
      "1       MACIAS Jose (ARG)  MATEUCCI Francisco (URU)   \n",
      "2     TEJADA Anibal (URU)   VALLARINO Ricardo (URU)   \n",
      "3   WARNKEN Alberto (CHI)       LANGENUS Jean (BEL)   \n",
      "4     REGO Gilberto (BRA)      SAUCEDO Ulises (BOL)   \n",
      "\n",
      "                  Assistant 2  RoundID  MatchID Home Team Initials  \\\n",
      "0         REGO Gilberto (BRA)    201.0   1096.0                FRA   \n",
      "1       WARNKEN Alberto (CHI)    201.0   1090.0                USA   \n",
      "2         BALWAY Thomas (FRA)    201.0   1093.0                YUG   \n",
      "3    MATEUCCI Francisco (URU)    201.0   1098.0                ROU   \n",
      "4  RADULESCU Constantin (ROU)    201.0   1085.0                ARG   \n",
      "\n",
      "  Away Team Initials  \n",
      "0                MEX  \n",
      "1                BEL  \n",
      "2                BRA  \n",
      "3                PER  \n",
      "4                FRA  \n",
      "     Year              Datetime    Stage         Stadium         City  \\\n",
      "0  1930.0  13 Jul 1930 - 15:00   Group 1         Pocitos  Montevideo    \n",
      "1  1930.0  13 Jul 1930 - 15:00   Group 4  Parque Central  Montevideo    \n",
      "2  1930.0  14 Jul 1930 - 12:45   Group 2  Parque Central  Montevideo    \n",
      "3  1930.0  14 Jul 1930 - 14:50   Group 3         Pocitos  Montevideo    \n",
      "4  1930.0  15 Jul 1930 - 16:00   Group 1  Parque Central  Montevideo    \n",
      "\n",
      "  Home Team Name  Home Team Goals  Away Team Goals Away Team Name  \\\n",
      "0         France              4.0              1.0         Mexico   \n",
      "1            USA              3.0              0.0        Belgium   \n",
      "2     Yugoslavia              2.0              1.0         Brazil   \n",
      "3        Romania              3.0              1.0           Peru   \n",
      "4      Argentina              1.0              0.0         France   \n",
      "\n",
      "  Win conditions  ...  Half-time Home Goals  Half-time Away Goals  \\\n",
      "0                 ...                   3.0                   0.0   \n",
      "1                 ...                   2.0                   0.0   \n",
      "2                 ...                   2.0                   0.0   \n",
      "3                 ...                   1.0                   0.0   \n",
      "4                 ...                   0.0                   0.0   \n",
      "\n",
      "                  Referee               Assistant 1  \\\n",
      "0  LOMBARDI Domingo (URU)     CRISTOPHE Henry (BEL)   \n",
      "1       MACIAS Jose (ARG)  MATEUCCI Francisco (URU)   \n",
      "2     TEJADA Anibal (URU)   VALLARINO Ricardo (URU)   \n",
      "3   WARNKEN Alberto (CHI)       LANGENUS Jean (BEL)   \n",
      "4     REGO Gilberto (BRA)      SAUCEDO Ulises (BOL)   \n",
      "\n",
      "                  Assistant 2 RoundID  MatchID  Home Team Initials  \\\n",
      "0         REGO Gilberto (BRA)   201.0   1096.0                 FRA   \n",
      "1       WARNKEN Alberto (CHI)   201.0   1090.0                 USA   \n",
      "2         BALWAY Thomas (FRA)   201.0   1093.0                 YUG   \n",
      "3    MATEUCCI Francisco (URU)   201.0   1098.0                 ROU   \n",
      "4  RADULESCU Constantin (ROU)   201.0   1085.0                 ARG   \n",
      "\n",
      "  Away Team Initials Total Goals  \n",
      "0                MEX         5.0  \n",
      "1                BEL         3.0  \n",
      "2                BRA         3.0  \n",
      "3                PER         4.0  \n",
      "4                FRA         1.0  \n",
      "\n",
      "[5 rows x 21 columns]\n"
     ]
    }
   ],
   "source": [
    "df = pd.read_csv(\"WorldCupMatches.csv\")\n",
    "#df_goals= pd.read_csv(\"goals.csv\")\n",
    "print(df.head())\n",
    "#print(df_goals.head())\n",
    "\n",
    "\n",
    "df['Total Goals'] = df['Home Team Goals'] + df['Away Team Goals']\n",
    "print(df.head())"
   ]
  },
  {
   "cell_type": "code",
   "execution_count": 20,
   "id": "5e5f4116",
   "metadata": {},
   "outputs": [
    {
     "data": {
      "image/png": "[encoded data removed]",
      "text/plain": [
       "<Figure size 864x504 with 1 Axes>"
      ]
     },
     "metadata": {},
     "output_type": "display_data"
    }
   ],
   "source": [
    "sns.set_style('whitegrid')\n",
    "sns.set_context('notebook', font_scale=1.25)\n",
    "f, ax = plt.subplots(figsize=(12, 7))\n",
    "ax = sns.barplot(x=df['Year'], y=df['Total Goals'])\n",
    "ax.set_title('Avg Goals per Year in WorldCup')\n",
    "plt.show()"
   ]
  },
  {
   "cell_type": "code",
   "execution_count": null,
   "id": "8f7c464c",
   "metadata": {},
   "outputs": [],
   "source": []
  }
 ],
 "metadata": {
  "kernelspec": {
   "display_name": "Python 3 (ipykernel)",
   "language": "python",
   "name": "python3"
  },
  "language_info": {
   "codemirror_mode": {
    "name": "ipython",
    "version": 3
   },
   "file_extension": ".py",
   "mimetype": "text/x-python",
   "name": "python",
   "nbconvert_exporter": "python",
   "pygments_lexer": "ipython3",
   "version": "3.8.11"
  }
 },
 "nbformat": 4,
 "nbformat_minor": 5
}
